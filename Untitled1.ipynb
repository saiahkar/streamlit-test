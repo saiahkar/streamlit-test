{
 "cells": [
  {
   "cell_type": "code",
   "execution_count": 8,
   "id": "bbdd0006",
   "metadata": {},
   "outputs": [
    {
     "name": "stdout",
     "output_type": "stream",
     "text": [
      "Mean Squared Error: 4925.70948712298\n",
      "R-squared: 0.7778432203251976\n",
      "Model Accuracy: 77.78%\n",
      "Model has been trained, evaluated, and saved to salary_prediction_model.pkl\n"
     ]
    }
   ],
   "source": [
    "import pandas as pd\n",
    "from sklearn.linear_model import LinearRegression\n",
    "from sklearn.model_selection import train_test_split\n",
    "from sklearn.metrics import mean_squared_error, r2_score\n",
    "import pickle\n",
    "\n",
    "# Create a sample dataset\n",
    "data = {\n",
    "    'Year': list(range(2012, 2023)),\n",
    "    'Salary': [\n",
    "        1591, 1609, 1621, 1622, 1651, 1661, 1704, 1755, 1799, 1936, 2117\n",
    "    ]\n",
    "}\n",
    "\n",
    "# Convert to DataFrame\n",
    "df = pd.DataFrame(data)\n",
    "\n",
    "# Save to CSV\n",
    "df.to_csv('salary_data_sheet.csv', index=False)\n",
    "\n",
    "# Prepare data\n",
    "X = df['Year'].values.reshape(-1, 1)\n",
    "y = df['Salary']\n",
    "\n",
    "# Split the data into training and testing sets\n",
    "X_train, X_test, y_train, y_test = train_test_split(X, y, test_size=0.2, random_state=42)\n",
    "\n",
    "# Train a linear regression model\n",
    "model = LinearRegression()\n",
    "model.fit(X_train, y_train)\n",
    "\n",
    "# Predict on the test set\n",
    "y_pred = model.predict(X_test)\n",
    "\n",
    "# Evaluate the model\n",
    "mse = mean_squared_error(y_test, y_pred)\n",
    "r2 = r2_score(y_test, y_pred)\n",
    "accuracy = r2 * 100\n",
    "\n",
    "print(f\"Mean Squared Error: {mse}\")\n",
    "print(f\"R-squared: {r2}\")\n",
    "print(f\"Model Accuracy: {accuracy:.2f}%\")\n",
    "\n",
    "# Save the model to a file\n",
    "with open('salary_prediction_model.pkl', 'wb') as file:\n",
    "    pickle.dump(model, file)\n",
    "\n",
    "print(\"Model has been trained, evaluated, and saved to salary_prediction_model.pkl\")\n"
   ]
  },
  {
   "cell_type": "code",
   "execution_count": 9,
   "id": "50d426c2",
   "metadata": {},
   "outputs": [
    {
     "name": "stdout",
     "output_type": "stream",
     "text": [
      "Predicted salary for year 2024: $2060.88\n",
      "Predicted salary for year 2025: $2108.32\n",
      "Predicted salary for year 2026: $2155.76\n",
      "Predicted salary for year 2027: $2203.19\n",
      "Predicted salary for year 2028: $2250.63\n"
     ]
    }
   ],
   "source": [
    "import pandas as pd\n",
    "from sklearn.linear_model import LinearRegression\n",
    "import numpy as np\n",
    "import pickle\n",
    "\n",
    "# Load historical salary data\n",
    "data = pd.read_csv('salary_data_sheet.csv')\n",
    "\n",
    "# Load the model from the file\n",
    "with open('salary_prediction_model.pkl', 'rb') as file:\n",
    "    model = pickle.load(file)\n",
    "\n",
    "# Prepare data for prediction\n",
    "current_year = data['Year'].max()\n",
    "future_years = np.array(range(current_year + 2, current_year + 7)).reshape(-1, 1)\n",
    "predicted_salaries = model.predict(future_years)\n",
    "\n",
    "# Print predicted salaries\n",
    "for year, salary in zip(range(current_year + 2, current_year + 7), predicted_salaries):\n",
    "    print(f\"Predicted salary for year {year}: ${salary:.2f}\")\n"
   ]
  },
  {
   "cell_type": "code",
   "execution_count": null,
   "id": "e6ae7941",
   "metadata": {},
   "outputs": [],
   "source": []
  }
 ],
 "metadata": {
  "kernelspec": {
   "display_name": "Python 3 (ipykernel)",
   "language": "python",
   "name": "python3"
  },
  "language_info": {
   "codemirror_mode": {
    "name": "ipython",
    "version": 3
   },
   "file_extension": ".py",
   "mimetype": "text/x-python",
   "name": "python",
   "nbconvert_exporter": "python",
   "pygments_lexer": "ipython3",
   "version": "3.11.5"
  }
 },
 "nbformat": 4,
 "nbformat_minor": 5
}
